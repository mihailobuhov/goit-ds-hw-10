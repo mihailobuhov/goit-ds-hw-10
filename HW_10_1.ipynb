{
 "cells": [
  {
   "cell_type": "code",
   "execution_count": 1,
   "id": "57419a1e",
   "metadata": {},
   "outputs": [],
   "source": [
    "import pandas as pd\n",
    "from surprise import Dataset, Reader\n",
    "\n",
    "# Завантаження датасету\n",
    "ratings = pd.read_csv(\"ml-latest-small/ratings.csv\")\n",
    "\n",
    "# Побудова об'єкта Reader\n",
    "reader = Reader(rating_scale=(0.5, 5.0))\n",
    "data = Dataset.load_from_df(ratings[['userId', 'movieId', 'rating']], reader)"
   ]
  },
  {
   "cell_type": "code",
   "execution_count": 2,
   "id": "8fb515f7",
   "metadata": {},
   "outputs": [
    {
     "name": "stdout",
     "output_type": "stream",
     "text": [
      "Evaluating RMSE, MAE of algorithm SVD on 5 split(s).\n",
      "\n",
      "                  Fold 1  Fold 2  Fold 3  Fold 4  Fold 5  Mean    Std     \n",
      "RMSE (testset)    0.8816  0.8666  0.8720  0.8714  0.8777  0.8739  0.0052  \n",
      "MAE (testset)     0.6767  0.6673  0.6702  0.6709  0.6724  0.6715  0.0031  \n",
      "Fit time          2.51    2.66    2.63    2.66    2.62    2.62    0.06    \n",
      "Test time         0.60    0.59    0.44    0.45    0.57    0.53    0.07    \n",
      "Evaluating RMSE, MAE of algorithm SVDpp on 5 split(s).\n",
      "\n",
      "                  Fold 1  Fold 2  Fold 3  Fold 4  Fold 5  Mean    Std     \n",
      "RMSE (testset)    0.8660  0.8542  0.8604  0.8728  0.8539  0.8615  0.0072  \n",
      "MAE (testset)     0.6645  0.6520  0.6602  0.6709  0.6543  0.6604  0.0069  \n",
      "Fit time          236.48  235.13  237.30  234.39  235.41  235.74  1.03    \n",
      "Test time         30.77   31.02   30.76   31.28   30.96   30.96   0.19    \n",
      "Evaluating RMSE, MAE of algorithm NMF on 5 split(s).\n",
      "\n",
      "                  Fold 1  Fold 2  Fold 3  Fold 4  Fold 5  Mean    Std     \n",
      "RMSE (testset)    0.9270  0.9092  0.9302  0.9243  0.9183  0.9218  0.0074  \n",
      "MAE (testset)     0.7085  0.6934  0.7111  0.7077  0.7049  0.7051  0.0062  \n",
      "Fit time          6.00    6.35    6.30    6.44    5.84    6.18    0.23    \n",
      "Test time         0.54    0.39    0.37    0.50    0.47    0.45    0.06    \n"
     ]
    }
   ],
   "source": [
    "import numpy as np\n",
    "from surprise import SVD, SVDpp, NMF\n",
    "from surprise.model_selection import cross_validate\n",
    "\n",
    "# SVD\n",
    "cvd_results = cross_validate(SVD(), data, measures=['RMSE', 'MAE'], cv=5, verbose=True)\n",
    "# SVDpp\n",
    "cvdpp_results = cross_validate(SVDpp(), data, measures=['RMSE', 'MAE'], cv=5, verbose=True)\n",
    "# NMF\n",
    "nmf_results = cross_validate(NMF(), data, measures=['RMSE', 'MAE'], cv=5, verbose=True)"
   ]
  },
  {
   "cell_type": "code",
   "execution_count": 3,
   "id": "c7cd475b-2882-4ded-a0c5-fc05f6dc49ef",
   "metadata": {},
   "outputs": [
    {
     "data": {
      "image/png": "[encoded data removed]",
      "text/plain": [
       "<Figure size 1200x500 with 2 Axes>"
      ]
     },
     "metadata": {},
     "output_type": "display_data"
    }
   ],
   "source": [
    "import matplotlib.pyplot as plt\n",
    "import numpy as np\n",
    "\n",
    "# Назви моделей\n",
    "models = ['SVD', 'SVDpp', 'NMF']\n",
    "\n",
    "# Середні значення метрик\n",
    "rmse_scores = [\n",
    "    np.mean(cvd_results['test_rmse']),\n",
    "    np.mean(cvdpp_results['test_rmse']),\n",
    "    np.mean(nmf_results['test_rmse'])\n",
    "]\n",
    "\n",
    "mae_scores = [\n",
    "    np.mean(cvd_results['test_mae']),\n",
    "    np.mean(cvdpp_results['test_mae']),\n",
    "    np.mean(nmf_results['test_mae'])\n",
    "]\n",
    "\n",
    "# Побудова графіків\n",
    "fig, axes = plt.subplots(1, 2, figsize=(12, 5))\n",
    "\n",
    "axes[0].bar(models, rmse_scores, color='skyblue')\n",
    "axes[0].set_title('RMSE порівняння')\n",
    "axes[0].set_ylabel('RMSE')\n",
    "\n",
    "axes[1].bar(models, mae_scores, color='lightgreen')\n",
    "axes[1].set_title('MAE порівняння')\n",
    "axes[1].set_ylabel('MAE')\n",
    "\n",
    "plt.suptitle('Порівняння моделей рекомендаційної системи')\n",
    "plt.tight_layout()\n",
    "plt.show()"
   ]
  },
  {
   "cell_type": "code",
   "execution_count": 4,
   "id": "67549d0c",
   "metadata": {},
   "outputs": [
    {
     "data": {
      "text/html": [
       "<div>\n",
       "<style scoped>\n",
       "    .dataframe tbody tr th:only-of-type {\n",
       "        vertical-align: middle;\n",
       "    }\n",
       "\n",
       "    .dataframe tbody tr th {\n",
       "        vertical-align: top;\n",
       "    }\n",
       "\n",
       "    .dataframe thead th {\n",
       "        text-align: right;\n",
       "    }\n",
       "</style>\n",
       "<table border=\"1\" class=\"dataframe\">\n",
       "  <thead>\n",
       "    <tr style=\"text-align: right;\">\n",
       "      <th></th>\n",
       "      <th>Model</th>\n",
       "      <th>RMSE</th>\n",
       "      <th>MAE</th>\n",
       "    </tr>\n",
       "  </thead>\n",
       "  <tbody>\n",
       "    <tr>\n",
       "      <th>0</th>\n",
       "      <td>SVD</td>\n",
       "      <td>0.873857</td>\n",
       "      <td>0.671487</td>\n",
       "    </tr>\n",
       "    <tr>\n",
       "      <th>1</th>\n",
       "      <td>SVDpp</td>\n",
       "      <td>0.861451</td>\n",
       "      <td>0.660396</td>\n",
       "    </tr>\n",
       "    <tr>\n",
       "      <th>2</th>\n",
       "      <td>NMF</td>\n",
       "      <td>0.921810</td>\n",
       "      <td>0.705146</td>\n",
       "    </tr>\n",
       "  </tbody>\n",
       "</table>\n",
       "</div>"
      ],
      "text/plain": [
       "   Model      RMSE       MAE\n",
       "0    SVD  0.873857  0.671487\n",
       "1  SVDpp  0.861451  0.660396\n",
       "2    NMF  0.921810  0.705146"
      ]
     },
     "execution_count": 4,
     "metadata": {},
     "output_type": "execute_result"
    }
   ],
   "source": [
    "results_df = pd.DataFrame({\n",
    "    'Model': ['SVD', 'SVDpp', 'NMF'],\n",
    "    'RMSE': [\n",
    "        np.mean(cvd_results['test_rmse']),\n",
    "        np.mean(cvdpp_results['test_rmse']),\n",
    "        np.mean(nmf_results['test_rmse'])\n",
    "    ],\n",
    "    'MAE': [\n",
    "        np.mean(cvd_results['test_mae']),\n",
    "        np.mean(cvdpp_results['test_mae']),\n",
    "        np.mean(nmf_results['test_mae'])\n",
    "    ]\n",
    "})\n",
    "results_df"
   ]
  },
  {
   "cell_type": "code",
   "execution_count": 5,
   "id": "df724a4a",
   "metadata": {},
   "outputs": [
    {
     "name": "stdout",
     "output_type": "stream",
     "text": [
      "Best RMSE: 0.8750010257857861\n",
      "Best Params: {'n_epochs': 20, 'lr_all': 0.005, 'reg_all': 0.1}\n"
     ]
    }
   ],
   "source": [
    "from surprise.model_selection import GridSearchCV\n",
    "\n",
    "param_grid = {\n",
    "    'n_epochs': [10, 20],\n",
    "    'lr_all': [0.002, 0.005],\n",
    "    'reg_all': [0.02, 0.1]\n",
    "}\n",
    "\n",
    "gs = GridSearchCV(SVD, param_grid, measures=['rmse'], cv=3)\n",
    "gs.fit(data)\n",
    "\n",
    "print(\"Best RMSE:\", gs.best_score['rmse'])\n",
    "print(\"Best Params:\", gs.best_params['rmse'])"
   ]
  },
  {
   "cell_type": "code",
   "execution_count": null,
   "id": "bd5e85bc-6693-4b5c-9e35-0eb05dfa0557",
   "metadata": {},
   "outputs": [],
   "source": []
  }
 ],
 "metadata": {
  "kernelspec": {
   "display_name": "Python 3 (ipykernel)",
   "language": "python",
   "name": "python3"
  },
  "language_info": {
   "codemirror_mode": {
    "name": "ipython",
    "version": 3
   },
   "file_extension": ".py",
   "mimetype": "text/x-python",
   "name": "python",
   "nbconvert_exporter": "python",
   "pygments_lexer": "ipython3",
   "version": "3.12.3"
  }
 },
 "nbformat": 4,
 "nbformat_minor": 5
}
